{
 "cells": [
  {
   "cell_type": "code",
   "execution_count": null,
   "id": "e212f275-75d4-41d2-9a78-4c0b4462aa95",
   "metadata": {},
   "outputs": [],
   "source": [
    "import pandas as pd\n",
    "import os\n",
    "from dotenv import load_dotenv\n",
    "from f_flowercheck import flowercheck\n",
    "from f_importinv import imp1\n",
    "load_dotenv()\n",
    "eqdir = os.getenv(\"eqdir\")\n",
    "characters = []"
   ]
  },
  {
   "cell_type": "code",
   "execution_count": null,
   "id": "4045f076-65e9-4ac8-9f02-385df96bf16c",
   "metadata": {},
   "outputs": [],
   "source": [
    "#MAIN\n",
    "df, chars = imp1(eqdir)\n",
    "flowneed = flowercheck('XcharacternameX', df)\n",
    "flowneed"
   ]
  }
 ],
 "metadata": {
  "kernelspec": {
   "display_name": "Python 3 (ipykernel)",
   "language": "python",
   "name": "python3"
  },
  "language_info": {
   "codemirror_mode": {
    "name": "ipython",
    "version": 3
   },
   "file_extension": ".py",
   "mimetype": "text/x-python",
   "name": "python",
   "nbconvert_exporter": "python",
   "pygments_lexer": "ipython3",
   "version": "3.10.9"
  },
  "toc-autonumbering": true
 },
 "nbformat": 4,
 "nbformat_minor": 5
}
