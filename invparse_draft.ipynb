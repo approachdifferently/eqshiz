{
 "cells": [
  {
   "cell_type": "code",
   "execution_count": null,
   "id": "e212f275-75d4-41d2-9a78-4c0b4462aa95",
   "metadata": {},
   "outputs": [],
   "source": [
    "import pandas as pd\n",
    "import os\n",
    "from dotenv import load_dotenv\n",
    "\n",
    "load_dotenv()\n",
    "eqdir = os.getenv(\"eqdir\")\n",
    "characters = []\n"
   ]
  },
  {
   "cell_type": "code",
   "execution_count": null,
   "id": "4dc42336-9391-40dd-bdf3-903e36b9bf0f",
   "metadata": {},
   "outputs": [],
   "source": [
    "def imp1(path):\n",
    "    chars=[]\n",
    "    df=pd.DataFrame()\n",
    "    print('###STARTIN IMPORT###')\n",
    "    inv_files = [f for f in os.listdir(path) if f.endswith('Inventory.txt')]\n",
    "    for file in inv_files:\n",
    "        file_path1 = os.path.join(path, file)\n",
    "        file_path = file_path1.replace(\"\\\\\", \"/\")\n",
    "        print(file_path)\n",
    "        tempdf = pd.read_table(file_path)\n",
    "        charn = file[:-14]\n",
    "        tempdf['charn'] = charn\n",
    "        df = pd.concat([df, tempdf], ignore_index=True)    \n",
    "        chars.append(charn)\n",
    "        print('################################################################')\n",
    "        print(file)\n",
    "        print('################################################################')\n",
    "    print('###IMPORT COMPLETE###')\n",
    "    print('##########################')\n",
    "    print('##########################')\n",
    "    return df,chars"
   ]
  },
  {
   "cell_type": "code",
   "execution_count": null,
   "id": "4045f076-65e9-4ac8-9f02-385df96bf16c",
   "metadata": {},
   "outputs": [],
   "source": [
    "#MAIN\n",
    "df, chars = imp1(eqdir)"
   ]
  },
  {
   "cell_type": "code",
   "execution_count": null,
   "id": "35d11369-2f2c-4faf-9ffb-73133d25103b",
   "metadata": {},
   "outputs": [],
   "source": [
    "df"
   ]
  },
  {
   "cell_type": "code",
   "execution_count": null,
   "id": "fbc9bfa4-75f0-4d53-8ec1-8a6fdd06ec97",
   "metadata": {},
   "outputs": [],
   "source": [
    "chars"
   ]
  }
 ],
 "metadata": {
  "kernelspec": {
   "display_name": "Python 3 (ipykernel)",
   "language": "python",
   "name": "python3"
  },
  "language_info": {
   "codemirror_mode": {
    "name": "ipython",
    "version": 3
   },
   "file_extension": ".py",
   "mimetype": "text/x-python",
   "name": "python",
   "nbconvert_exporter": "python",
   "pygments_lexer": "ipython3",
   "version": "3.10.9"
  }
 },
 "nbformat": 4,
 "nbformat_minor": 5
}
